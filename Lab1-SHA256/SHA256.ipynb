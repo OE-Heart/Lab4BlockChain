{
 "cells": [
  {
   "cell_type": "markdown",
   "source": [
    "# SHA256"
   ],
   "metadata": {}
  },
  {
   "cell_type": "code",
   "execution_count": 1,
   "source": [
    "import numpy as np\r\n",
    "import time"
   ],
   "outputs": [],
   "metadata": {}
  },
  {
   "cell_type": "code",
   "execution_count": 2,
   "source": [
    "def preprocess(message):\r\n",
    "    msg_list = list(message)\r\n",
    "    msgLen = len(msg_list)*8\r\n",
    "    \r\n",
    "    result = bytes(message, \"ascii\")\r\n",
    "    result += b\"\\x80\"\r\n",
    "\r\n",
    "    if len(msg_list)%64 < 56:\r\n",
    "        suffix = b\"\\x00\" * (55-len(msg_list)%64)\r\n",
    "    else:\r\n",
    "        suffix = b\"\\x00\" * (64+55-len(msg_list)%64)\r\n",
    "    result += suffix\r\n",
    "    \r\n",
    "    result += msgLen.to_bytes(8, \"big\")\r\n",
    "    return result\r\n"
   ],
   "outputs": [],
   "metadata": {}
  },
  {
   "cell_type": "code",
   "execution_count": 3,
   "source": [
    "# 32个字节右移n位\r\n",
    "def R(x, n):\r\n",
    "    return (x >> n)\r\n",
    "\r\n",
    "# 32个字节循环右移n位\r\n",
    "def S(x, n):\r\n",
    "    return ((x >> n) | (x << (32-n))) & (2**32-1)"
   ],
   "outputs": [],
   "metadata": {}
  },
  {
   "cell_type": "code",
   "execution_count": 4,
   "source": [
    "# 逻辑函数的定义\r\n",
    "def Ch(x, y ,z):\r\n",
    "    return ((x & y) ^ (~x & z))\r\n",
    "\r\n",
    "def Maj(x, y ,z):\r\n",
    "    return ((x & y) ^ (x & z) ^ (y & z))\r\n",
    "\r\n",
    "def Sigma0(x):\r\n",
    "    return (S(x, 2) ^ S(x, 13) ^ S(x, 22))\r\n",
    "\r\n",
    "def Sigma1(x):\r\n",
    "    return (S(x, 6) ^ S(x, 11) ^ S(x, 25))\r\n",
    "\r\n",
    "def sigma0(x):\r\n",
    "    return (S(x, 7) ^ S(x, 18) ^ R(x, 3))\r\n",
    "\r\n",
    "def sigma1(x):\r\n",
    "    return (S(x, 17) ^ S(x, 19) ^ R(x, 10))"
   ],
   "outputs": [],
   "metadata": {}
  },
  {
   "cell_type": "code",
   "execution_count": 5,
   "source": [
    "def compress(Kj, Wj, a, b, c, d, e, f, g, h):\r\n",
    "    \r\n",
    "    T1 = h + Sigma1(e) + Ch(e, f ,g) + Kj + Wj\r\n",
    "    T2 = Sigma0(a) + Maj(a, b , c)\r\n",
    "    h = g\r\n",
    "    g = f\r\n",
    "    f = e\r\n",
    "    e = (d + T1) & (2**32-1)\r\n",
    "    d = c\r\n",
    "    c = b\r\n",
    "    b = a\r\n",
    "    a = (T1 + T2 ) & (2**32-1)\r\n",
    "    return a, b, c, d, e, f, g, h"
   ],
   "outputs": [],
   "metadata": {}
  },
  {
   "cell_type": "code",
   "execution_count": 6,
   "source": [
    "def SHA256(message):\r\n",
    "    # 初始哈希值\r\n",
    "    H = (0x6a09e667, 0xbb67ae85, 0x3c6ef372, 0xa54ff53a, \r\n",
    "         0x510e527f, 0x9b05688c, 0x1f83d9ab, 0x5be0cd19)\r\n",
    "    # 计算过程当中用到的常数\r\n",
    "    K = np.array([0x428a2f98, 0x71374491, 0xb5c0fbcf, 0xe9b5dba5, \r\n",
    "                  0x3956c25b, 0x59f111f1, 0x923f82a4, 0xab1c5ed5,\r\n",
    "                  0xd807aa98, 0x12835b01, 0x243185be, 0x550c7dc3, \r\n",
    "                  0x72be5d74, 0x80deb1fe, 0x9bdc06a7, 0xc19bf174,\r\n",
    "                  0xe49b69c1, 0xefbe4786, 0x0fc19dc6, 0x240ca1cc, \r\n",
    "                  0x2de92c6f, 0x4a7484aa, 0x5cb0a9dc, 0x76f988da,\r\n",
    "                  0x983e5152, 0xa831c66d, 0xb00327c8, 0xbf597fc7, \r\n",
    "                  0xc6e00bf3, 0xd5a79147, 0x06ca6351, 0x14292967,\r\n",
    "                  0x27b70a85, 0x2e1b2138, 0x4d2c6dfc, 0x53380d13, \r\n",
    "                  0x650a7354, 0x766a0abb, 0x81c2c92e, 0x92722c85,\r\n",
    "                  0xa2bfe8a1, 0xa81a664b, 0xc24b8b70, 0xc76c51a3, \r\n",
    "                  0xd192e819, 0xd6990624, 0xf40e3585, 0x106aa070,\r\n",
    "                  0x19a4c116, 0x1e376c08, 0x2748774c, 0x34b0bcb5, \r\n",
    "                  0x391c0cb3, 0x4ed8aa4a, 0x5b9cca4f, 0x682e6ff3,\r\n",
    "                  0x748f82ee, 0x78a5636f, 0x84c87814, 0x8cc70208, \r\n",
    "                  0x90befffa, 0xa4506ceb, 0xbef9a3f7, 0xc67178f2])\r\n",
    "\r\n",
    "    message = preprocess(message)\r\n",
    "\r\n",
    "    for i in range(0, len(message), 64):\r\n",
    "        S = message[i: i + 64]\r\n",
    "        W = [int.from_bytes(S[e: e + 4], \"big\") for e in range(0, 64, 4)] + ([0] * 48)\r\n",
    "\r\n",
    "        for j in range(16, 64):\r\n",
    "            W[j] = (sigma1(W[j-2]) + W[j-7] + sigma0(W[j-15]) + W[j-16]) & ((2**32)-1)\r\n",
    "        \r\n",
    "        a, b, c, d, e, f, g, h = H\r\n",
    "\r\n",
    "        for j in range(64):\r\n",
    "            a, b, c, d, e, f, g, h = compress(K[j], W[j], a, b, c, d, e, f, g, h)\r\n",
    "\r\n",
    "    H = [d.to_bytes(4, \"big\") for d in [int((x + y) & (2**32-1)) for x, y in zip(H, (a, b, c, d, e, f, g, h))]]\r\n",
    "\r\n",
    "    return \"\".join(format(h, \"02x\") for h in b\"\".join(H))\r\n"
   ],
   "outputs": [],
   "metadata": {}
  },
  {
   "cell_type": "code",
   "execution_count": 7,
   "source": [
    "s = \"SHA256\"\r\n",
    "result = SHA256(s)\r\n",
    "print(result)\r\n"
   ],
   "outputs": [
    {
     "output_type": "stream",
     "name": "stdout",
     "text": [
      "b3abe5d8c69b38733ad57ea75e83bcae42bbbbac75e3a5445862ed2f8a2cd677\n"
     ]
    }
   ],
   "metadata": {}
  },
  {
   "cell_type": "code",
   "execution_count": 8,
   "source": [
    "bin_str = \"\".join([bin(ord(result[i])).replace(\"0b\", \"\") for i in range(len(result))])\r\n",
    "print(bin_str)"
   ],
   "outputs": [
    {
     "output_type": "stream",
     "name": "stdout",
     "text": [
      "110001011001111000011100010110010111010111001001110001100011110110111001110001011001111100011011111001111001111000011100100110101110111110010111000011101111101011100101111000110011110001011000111100001110010111010011001011000101100010110001011000101100001110001111011111010111001011100111100001110101110100110100110101111000110110110010110010111001001100101100110111000110000111001011000111100100110110110111110111\n"
     ]
    }
   ],
   "metadata": {}
  },
  {
   "cell_type": "code",
   "execution_count": 9,
   "source": [
    "zero_cnt = 0\r\n",
    "time_start = time.perf_counter()\r\n",
    "for i in range(len(bin_str)):\r\n",
    "    if bin_str[i] == 1:\r\n",
    "        continue\r\n",
    "    else:\r\n",
    "        zero_cnt += 1\r\n",
    "        if (zero_cnt == 6):\r\n",
    "            time_zero_6 = time.perf_counter()\r\n",
    "        elif (zero_cnt == 8):\r\n",
    "            time_zero_8 = time.perf_counter()\r\n",
    "        elif (zero_cnt == 10):\r\n",
    "            time_zero_10 = time.perf_counter()\r\n",
    "            break\r\n",
    "        else:\r\n",
    "            continue\r\n"
   ],
   "outputs": [],
   "metadata": {}
  },
  {
   "cell_type": "code",
   "execution_count": 10,
   "source": [
    "print(\"Time to find the 6th 0: \", int((time_zero_6-time_start)*1000000000), 'ns')\r\n",
    "print(\"Time to find the 8th 0: \", int((time_zero_8-time_start)*1000000000), 'ns')\r\n",
    "print(\"Time to find the 10th 0: \", int((time_zero_10-time_start)*1000000000), 'ns')"
   ],
   "outputs": [
    {
     "output_type": "stream",
     "name": "stdout",
     "text": [
      "Time to find the 6th 0:  89500 ns\n",
      "Time to find the 8th 0:  90399 ns\n",
      "Time to find the 10th 0:  91199 ns\n"
     ]
    }
   ],
   "metadata": {}
  }
 ],
 "metadata": {
  "orig_nbformat": 4,
  "language_info": {
   "name": "python",
   "version": "3.8.8",
   "mimetype": "text/x-python",
   "codemirror_mode": {
    "name": "ipython",
    "version": 3
   },
   "pygments_lexer": "ipython3",
   "nbconvert_exporter": "python",
   "file_extension": ".py"
  },
  "kernelspec": {
   "name": "python3",
   "display_name": "Python 3.8.8 64-bit ('base': conda)"
  },
  "interpreter": {
   "hash": "a8f61be024eba58adef938c9aa1e29e02cb3dece83a5348b1a2dafd16a070453"
  }
 },
 "nbformat": 4,
 "nbformat_minor": 2
}